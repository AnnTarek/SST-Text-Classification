{
 "cells": [
  {
   "cell_type": "code",
   "execution_count": 1,
   "metadata": {},
   "outputs": [
    {
     "name": "stderr",
     "output_type": "stream",
     "text": [
      "/home/maram/.local/lib/python3.10/site-packages/tqdm/auto.py:21: TqdmWarning: IProgress not found. Please update jupyter and ipywidgets. See https://ipywidgets.readthedocs.io/en/stable/user_install.html\n",
      "  from .autonotebook import tqdm as notebook_tqdm\n"
     ]
    }
   ],
   "source": [
    "\n",
    "from datasets import load_dataset\n",
    "import numpy as np\n",
    "import matplotlib.pyplot as plt\n"
   ]
  },
  {
   "cell_type": "code",
   "execution_count": 2,
   "metadata": {},
   "outputs": [],
   "source": [
    "dataset = load_dataset(\"sst\", \"default\") #load dataset \n",
    "#Familiarize with the dataset\n"
   ]
  },
  {
   "cell_type": "code",
   "execution_count": 3,
   "metadata": {},
   "outputs": [
    {
     "name": "stdout",
     "output_type": "stream",
     "text": [
      "{'sentence': [\"The Rock is destined to be the 21st Century 's new `` Conan '' and that he 's going to make a splash even greater than Arnold Schwarzenegger , Jean-Claud Van Damme or Steven Segal .\"], 'label': [0.6944400072097778], 'tokens': [\"The|Rock|is|destined|to|be|the|21st|Century|'s|new|``|Conan|''|and|that|he|'s|going|to|make|a|splash|even|greater|than|Arnold|Schwarzenegger|,|Jean-Claud|Van|Damme|or|Steven|Segal|.\"], 'tree': ['70|70|68|67|63|62|61|60|58|58|57|56|56|64|65|55|54|53|52|51|49|47|47|46|46|45|40|40|41|39|38|38|43|37|37|69|44|39|42|41|42|43|44|45|50|48|48|49|50|51|52|53|54|55|66|57|59|59|60|61|62|63|64|65|66|67|68|69|71|71|0']}\n"
     ]
    }
   ],
   "source": [
    "#print first example of the training set\n",
    "print(dataset['train'][:1])\n"
   ]
  },
  {
   "cell_type": "code",
   "execution_count": 4,
   "metadata": {},
   "outputs": [],
   "source": [
    "#splitting the dataset into training, val, and testing sets\n",
    "train = {\n",
    "    'sentence': dataset['train']['sentence'],\n",
    "    'label': dataset['train']['label'],\n",
    "}\n",
    "val = {\n",
    "    'sentence': dataset['validation']['sentence'],\n",
    "    'label': dataset['validation']['label'],\n",
    "}\n",
    "test = {\n",
    "    'sentence': dataset['test']['sentence'],\n",
    "    'label': dataset['test']['label'],\n",
    "}\n",
    "\n",
    "\n"
   ]
  },
  {
   "cell_type": "code",
   "execution_count": 5,
   "metadata": {},
   "outputs": [],
   "source": [
    "for i in range(len(train['sentence'])):\n",
    "    if train['label'][i] >= 0 and train['label'][i] <= 0.2:\n",
    "        train['label'][i] = 0\n",
    "    elif train['label'][i] > 0.2 and train['label'][i] <= 0.4:\n",
    "        train['label'][i] = 1\n",
    "    elif train['label'][i] > 0.4 and train['label'][i] <= 0.6:\n",
    "        train['label'][i] = 2\n",
    "    elif train['label'][i] > 0.6 and train['label'][i] <= 0.8:\n",
    "        train['label'][i] = 3\n",
    "    elif train['label'][i] > 0.8 and train['label'][i] <= 1:\n",
    "        train['label'][i] = 4\n",
    "  "
   ]
  },
  {
   "cell_type": "code",
   "execution_count": 6,
   "metadata": {},
   "outputs": [],
   "source": [
    "for i in range(len(test['sentence'])):\n",
    "    if test['label'][i] >= 0 and test['label'][i] <= 0.2:\n",
    "        test['label'][i] = 0\n",
    "    elif test['label'][i] > 0.2 and test['label'][i] <= 0.4:\n",
    "        test['label'][i] = 1\n",
    "    elif test['label'][i] > 0.4 and test['label'][i] <= 0.6:\n",
    "        test['label'][i] = 2\n",
    "    elif test['label'][i] > 0.6 and test['label'][i] <= 0.8:\n",
    "        test['label'][i] = 3\n",
    "    elif test['label'][i] > 0.8 and test['label'][i] <= 1:\n",
    "        test['label'][i] = 4"
   ]
  },
  {
   "cell_type": "markdown",
   "metadata": {},
   "source": [
    "### Part One : Naive Bayes"
   ]
  },
  {
   "cell_type": "code",
   "execution_count": 7,
   "metadata": {},
   "outputs": [
    {
     "name": "stdout",
     "output_type": "stream",
     "text": [
      "Log Priors: [-2.0572184  -1.34862339 -1.66033704 -1.3028004  -1.89213865]\n",
      "Count of Tokens: [ 762 1499 1106 1782  893]\n",
      "Log Likelihood: [-3.94079155 -3.70303825 -3.77645389 -3.58261443 -3.86375454]\n"
     ]
    }
   ],
   "source": [
    "def naive_bayes_train(Document, classes):\n",
    "    number_of_documents = len(Document['sentence'])\n",
    "    big_document = {\n",
    "        0 : {\n",
    "            'sentence' : [],\n",
    "            'tokens': []\n",
    "        },\n",
    "        1 : {\n",
    "            'sentence' : [],\n",
    "            'tokens': []\n",
    "        },\n",
    "        2 : {\n",
    "            'sentence' : [],\n",
    "            'tokens': []\n",
    "        },\n",
    "        3 : {\n",
    "            'sentence' : [],\n",
    "            'tokens': []\n",
    "        },\n",
    "        4 : {\n",
    "            'sentence' : [],\n",
    "            'tokens': []\n",
    "        }\n",
    "\n",
    "    }\n",
    "    # Classify the documents into their respective classes\n",
    "    vocab = set()\n",
    "    for i in range(number_of_documents):\n",
    "        class_index = Document['label'][i]\n",
    "        big_document[class_index]['sentence'].append(Document['sentence'][i])\n",
    "        tokens = Document['sentence'][i].split()\n",
    "        big_document[class_index]['tokens'].append(tokens)\n",
    "        for token in tokens:\n",
    "            vocab.add(token)\n",
    "    word_to_index = {\n",
    "        word: i for i, word in enumerate(vocab)\n",
    "    }\n",
    "\n",
    "    # Log Priors\n",
    "    log_priors = np.zeros(classes, dtype=np.float64)\n",
    "    for i in range(classes):\n",
    "        number_of_documents_in_class = len(big_document[i]['sentence'])\n",
    "        log_priors[i] = np.log(number_of_documents_in_class / number_of_documents)\n",
    "    \n",
    "    print(f\"Log Priors: {log_priors}\")\n",
    "\n",
    "    # Log Likelihood\n",
    "    count_of_tokens = np.ones((len(vocab), classes), dtype=np.int64)\n",
    "    for c in range(classes):\n",
    "        for i in range(len(big_document[c]['sentence'])):\n",
    "            for token in big_document[c]['tokens'][i]:\n",
    "                index = word_to_index[token]\n",
    "                count_of_tokens[index, c] += 1\n",
    "    print(f\"Count of Tokens: {count_of_tokens[word_to_index['the']]}\")\n",
    "\n",
    "    log_likelihood = np.zeros((len(vocab), classes), dtype=np.float64)\n",
    "    for i in range(len(vocab)):\n",
    "        for c in range(classes):\n",
    "            log_likelihood[i, c] = np.log(count_of_tokens[i, c] / np.sum(count_of_tokens[:, c]))\n",
    "    print(f\"Log Likelihood: {log_likelihood[word_to_index['the']]}\")\n",
    "    return log_priors, log_likelihood, word_to_index\n",
    "\n",
    "log_priors, log_likelihood, word_to_index = naive_bayes_train(train, 5)\n",
    "        "
   ]
  },
  {
   "cell_type": "code",
   "execution_count": 8,
   "metadata": {},
   "outputs": [
    {
     "name": "stdout",
     "output_type": "stream",
     "text": [
      "3\n",
      "1\n"
     ]
    }
   ],
   "source": [
    "def naive_bayes_predict(sentence, log_priors, log_likelihood,classes, word_to_index):\n",
    "    tokens = sentence.split()\n",
    "    score = np.zeros(classes)\n",
    "    for c in range(classes):\n",
    "        score[c] = log_priors[c]\n",
    "        for token in tokens:\n",
    "            if token in word_to_index:\n",
    "                score[c] += log_likelihood[word_to_index[token], c]\n",
    "    return np.argmax(score)\n",
    "\n",
    "print(naive_bayes_predict(test['sentence'][27], log_priors, log_likelihood, 5, word_to_index))\n",
    "print(test['label'][27])"
   ]
  },
  {
   "cell_type": "code",
   "execution_count": 9,
   "metadata": {},
   "outputs": [],
   "source": [
    "# Predicting the test dataset\n",
    "def predict_test(test, log_priors, log_likelihood, classes, word_to_index):\n",
    "    predictions = np.zeros(len(test['sentence']))\n",
    "    for i in range(len(test['sentence'])):\n",
    "        predictions[i] = naive_bayes_predict(test['sentence'][i], log_priors, log_likelihood, classes, word_to_index)\n",
    "    return predictions"
   ]
  },
  {
   "cell_type": "markdown",
   "metadata": {},
   "source": [
    "### Logisitc Regression"
   ]
  },
  {
   "cell_type": "markdown",
   "metadata": {},
   "source": [
    "#### *Feature Representation*"
   ]
  },
  {
   "cell_type": "code",
   "execution_count": null,
   "metadata": {},
   "outputs": [],
   "source": []
  },
  {
   "cell_type": "code",
   "execution_count": 10,
   "metadata": {},
   "outputs": [
    {
     "ename": "KeyError",
     "evalue": "'tokens'",
     "output_type": "error",
     "traceback": [
      "\u001b[0;31m---------------------------------------------------------------------------\u001b[0m",
      "\u001b[0;31mKeyError\u001b[0m                                  Traceback (most recent call last)",
      "Cell \u001b[0;32mIn[10], line 3\u001b[0m\n\u001b[1;32m      1\u001b[0m \u001b[38;5;66;03m#exploring bigrams in dataset\u001b[39;00m\n\u001b[1;32m      2\u001b[0m bigrams \u001b[38;5;241m=\u001b[39m {}\n\u001b[0;32m----> 3\u001b[0m \u001b[38;5;28;01mfor\u001b[39;00m sentence \u001b[38;5;129;01min\u001b[39;00m \u001b[43mtrain\u001b[49m\u001b[43m[\u001b[49m\u001b[38;5;124;43m'\u001b[39;49m\u001b[38;5;124;43mtokens\u001b[39;49m\u001b[38;5;124;43m'\u001b[39;49m\u001b[43m]\u001b[49m:\n\u001b[1;32m      4\u001b[0m     words \u001b[38;5;241m=\u001b[39m sentence\u001b[38;5;241m.\u001b[39msplit(\u001b[38;5;124m'\u001b[39m\u001b[38;5;124m|\u001b[39m\u001b[38;5;124m'\u001b[39m)\n\u001b[1;32m      5\u001b[0m     \u001b[38;5;28;01mfor\u001b[39;00m w1, w2 \u001b[38;5;129;01min\u001b[39;00m \u001b[38;5;28mzip\u001b[39m(words[:\u001b[38;5;241m-\u001b[39m\u001b[38;5;241m1\u001b[39m], words[\u001b[38;5;241m1\u001b[39m:]):\n",
      "\u001b[0;31mKeyError\u001b[0m: 'tokens'"
     ]
    }
   ],
   "source": [
    "#exploring bigrams in dataset\n",
    "bigrams = {}\n",
    "for sentence in train['tokens']:\n",
    "    words = sentence.split('|')\n",
    "    for w1, w2 in zip(words[:-1], words[1:]):\n",
    "        if (w1, w2) in bigrams:\n",
    "            bigrams[(w1, w2)] += 1\n",
    "        else:\n",
    "            bigrams[(w1, w2)] = 1\n",
    "        \n",
    "#print first 10 bigrams\n",
    "count = 0\n",
    "for key, value in bigrams.items():\n",
    "    print(key, value)\n",
    "    count += 1\n",
    "    if count == 10:\n",
    "        break\n",
    "\n",
    "print(f\"\\nLength: {len(bigrams)}\") #number of bigrams"
   ]
  },
  {
   "cell_type": "code",
   "execution_count": null,
   "metadata": {},
   "outputs": [],
   "source": [
    "print(bigrams[('a', 'solid')]) #frequency of bigram ('a', 'solid')\n",
    "print(bigrams[('21st', 'Century')]) #frequency of bigram ('a', 'rock')\n",
    "\n",
    "print(len(train['tokens'])) #number of sentences in the training set"
   ]
  },
  {
   "cell_type": "markdown",
   "metadata": {},
   "source": [
    "### Part Three : Confusion Matrix and Evaluation Metrics"
   ]
  },
  {
   "cell_type": "code",
   "execution_count": 11,
   "metadata": {},
   "outputs": [],
   "source": [
    "def generate_confusion_matrix(predictions, labels, classes):\n",
    "    confusion_matrix = np.zeros((classes, classes))\n",
    "\n",
    "    for i in range(len(predictions)):\n",
    "        #print(predictions[i], labels[i])\n",
    "        confusion_matrix[int(predictions[i]), labels[i]] += 1\n",
    "    return confusion_matrix\n",
    "\n",
    "def precision(confusion_matrix, classes):\n",
    "    precision = np.zeros(classes)\n",
    "    for i in range(classes):\n",
    "\n",
    "        precision[i] = confusion_matrix[i, i] / np.sum(confusion_matrix[i, :])\n",
    "    return precision\n",
    "\n",
    "def recall(confusion_matrix, classes):\n",
    "    recall = np.zeros(classes)\n",
    "    for i in range(classes):\n",
    "        recall[i] = confusion_matrix[i, i] / np.sum(confusion_matrix[:, i])\n",
    "    return recall\n",
    "\n",
    "def f1_score(precision, recall, classes):\n",
    "    f1_score = np.zeros(classes)\n",
    "    for i in range(classes):\n",
    "        f1_score[i] = 2 * (precision[i] * recall[i]) / (precision[i] + recall[i])\n",
    "    return f1_score\n",
    "\n",
    "def macro_f1(f1_score, classes):\n",
    "    return np.sum(f1_score) / classes"
   ]
  },
  {
   "cell_type": "code",
   "execution_count": 12,
   "metadata": {},
   "outputs": [
    {
     "data": {
      "image/png": "[encoded data removed]",
      "text/plain": [
       "<Figure size 640x480 with 2 Axes>"
      ]
     },
     "metadata": {},
     "output_type": "display_data"
    },
    {
     "name": "stdout",
     "output_type": "stream",
     "text": [
      "precision: [0.34042553 0.44895719 0.2519685  0.35073892 0.58181818]\n",
      "recall: [0.05734767 0.64612954 0.08226221 0.69803922 0.160401  ]\n",
      "f1_score: [0.09815951 0.52979275 0.12403101 0.46688525 0.25147348]\n",
      "macro_f1: 0.2940683972753402\n"
     ]
    }
   ],
   "source": [
    "# Visualizing the confusion matrix\n",
    "def plot_confusion_matrix(confusion_matrix, classes):\n",
    "    plt.imshow(confusion_matrix, interpolation='nearest', cmap=plt.cm.Blues)\n",
    "    plt.title('Confusion Matrix')\n",
    "    plt.colorbar()\n",
    "    tick_marks = np.arange(classes)\n",
    "    plt.xticks(tick_marks, tick_marks)\n",
    "    plt.yticks(tick_marks, tick_marks)\n",
    "    plt.ylabel('True label')\n",
    "    plt.xlabel('Predicted label')\n",
    "    plt.show()\n",
    "\n",
    "predictions = predict_test(test, log_priors, log_likelihood, 5, word_to_index)\n",
    "confusion_matrix = generate_confusion_matrix(predictions, test['label'], 5)\n",
    "plot_confusion_matrix(confusion_matrix, 5)\n",
    "print(f\"precision: {precision(confusion_matrix, 5)}\")\n",
    "print(f\"recall: {recall(confusion_matrix, 5)}\")\n",
    "\n",
    "print(f\"f1_score: {f1_score(precision(confusion_matrix, 5), recall(confusion_matrix, 5), 5)}\")\n",
    "print(f\"macro_f1: {macro_f1(f1_score(precision(confusion_matrix, 5), recall(confusion_matrix, 5), 5), 5)}\")"
   ]
  },
  {
   "cell_type": "markdown",
   "metadata": {},
   "source": [
    "### Comparing Naive Bayes with Sci-kit Learn"
   ]
  },
  {
   "cell_type": "code",
   "execution_count": 13,
   "metadata": {},
   "outputs": [],
   "source": [
    "def my_tokenizer(text):\n",
    "    return text.split()"
   ]
  },
  {
   "cell_type": "code",
   "execution_count": 14,
   "metadata": {},
   "outputs": [
    {
     "name": "stderr",
     "output_type": "stream",
     "text": [
      "/home/maram/.local/lib/python3.10/site-packages/sklearn/feature_extraction/text.py:525: UserWarning: The parameter 'token_pattern' will not be used since 'tokenizer' is not None'\n",
      "  warnings.warn(\n"
     ]
    },
    {
     "data": {
      "image/png": "[encoded data removed]",
      "text/plain": [
       "<Figure size 640x480 with 2 Axes>"
      ]
     },
     "metadata": {},
     "output_type": "display_data"
    },
    {
     "name": "stdout",
     "output_type": "stream",
     "text": [
      "precision: [0.34042553 0.44895719 0.2519685  0.35073892 0.58181818]\n",
      "recall: [0.05734767 0.64612954 0.08226221 0.69803922 0.160401  ]\n",
      "f1_score: [0.09815951 0.52979275 0.12403101 0.46688525 0.25147348]\n",
      "macro_f1: 0.2940683972753402\n"
     ]
    }
   ],
   "source": [
    "from sklearn.naive_bayes import MultinomialNB\n",
    "from sklearn.feature_extraction.text import CountVectorizer\n",
    "from sklearn.pipeline import Pipeline\n",
    "from sklearn.metrics import confusion_matrix as cm\n",
    "text_clf = Pipeline([\n",
    "    ('vect', CountVectorizer(tokenizer=my_tokenizer, lowercase=False)),\n",
    "    ('clf', MultinomialNB())\n",
    "])\n",
    "X_train = train['sentence']\n",
    "y_train = train['label']\n",
    "X_test = test['sentence']\n",
    "y_test = test['label']\n",
    "text_clf.fit(X_train, y_train)\n",
    "predictions_sci = text_clf.predict(X_test)\n",
    "confusion_matrix_sci=generate_confusion_matrix(predictions_sci, y_test, 5)\n",
    "plot_confusion_matrix(confusion_matrix_sci, 5)\n",
    "print(f\"precision: {precision(confusion_matrix_sci, 5)}\")\n",
    "print(f\"recall: {recall(confusion_matrix_sci, 5)}\")\n",
    "print(f\"f1_score: {f1_score(precision(confusion_matrix_sci, 5), recall(confusion_matrix_sci, 5), 5)}\")\n",
    "print(f\"macro_f1: {macro_f1(f1_score(precision(confusion_matrix_sci, 5), recall(confusion_matrix_sci, 5), 5), 5)}\")\n"
   ]
  },
  {
   "cell_type": "code",
   "execution_count": 21,
   "metadata": {},
   "outputs": [
    {
     "data": {
      "image/png": "[encoded data removed]",
      "text/plain": [
       "<Figure size 640x480 with 2 Axes>"
      ]
     },
     "metadata": {},
     "output_type": "display_data"
    },
    {
     "name": "stdout",
     "output_type": "stream",
     "text": [
      "[0.34042553 0.44895719 0.2519685  0.35073892 0.58181818]\n",
      "[0.05734767 0.64612954 0.08226221 0.69803922 0.160401  ]\n",
      "[0.09815951 0.52979275 0.12403101 0.46688525 0.25147348]\n",
      "0.2940683972753402\n"
     ]
    }
   ],
   "source": [
    "from sklearn.metrics import confusion_matrix, precision_score, recall_score, f1_score\n",
    "plot_confusion_matrix(confusion_matrix(y_test, predictions_sci).transpose(),5)\n",
    "print(precision_score(y_test, predictions_sci, average=None))\n",
    "print(recall_score(y_test, predictions_sci, average=None))\n",
    "print(f1_score(y_test, predictions_sci, average=None))\n",
    "print(f1_score(y_test, predictions_sci, average='macro'))"
   ]
  },
  {
   "cell_type": "code",
   "execution_count": null,
   "metadata": {},
   "outputs": [],
   "source": []
  }
 ],
 "metadata": {
  "kernelspec": {
   "display_name": "base",
   "language": "python",
   "name": "python3"
  },
  "language_info": {
   "codemirror_mode": {
    "name": "ipython",
    "version": 3
   },
   "file_extension": ".py",
   "mimetype": "text/x-python",
   "name": "python",
   "nbconvert_exporter": "python",
   "pygments_lexer": "ipython3",
   "version": "3.10.12"
  }
 },
 "nbformat": 4,
 "nbformat_minor": 2
}
